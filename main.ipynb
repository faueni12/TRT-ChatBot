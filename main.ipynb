{
 "cells": [
  {
   "cell_type": "code",
   "execution_count": 1,
   "metadata": {},
   "outputs": [],
   "source": [
    "\"\"\" Principal do projeto. Aqui onde é executado todas as funções e análises. \"\"\"\n",
    "# -*- coding: UTF-8 -*- \n",
    "import pandas as pd\n",
    "import re\n",
    "\n",
    "import settings\n",
    "import analysis\n",
    "\n",
    "df = pd.read_excel(\"csv/Histórico dos Chamados.xlsx\")\n",
    "\n",
    "# Mudar nome das categorias e serviços pra evitar bug de diretório\n",
    "df[\"CATEGORIA\"] = [re.sub(\"/\", \"|\", cat) for cat in df[\"CATEGORIA\"]]\n",
    "df[\"SERVICO\"] = [re.sub(\"/\", \"|\", str(ser)) for ser in df[\"SERVICO\"]]"
   ]
  },
  {
   "cell_type": "code",
   "execution_count": 2,
   "metadata": {},
   "outputs": [
    {
     "name": "stderr",
     "output_type": "stream",
     "text": [
      "/home/bots/.local/lib/python3.7/site-packages/bs4/__init__.py:421: MarkupResemblesLocatorWarning: \"http://marmitariapaladar.com.br/home\" looks like a URL. Beautiful Soup is not an HTTP client. You should probably use an HTTP client like requests to get the document behind the URL, and feed that document to Beautiful Soup.\n",
      "  MarkupResemblesLocatorWarning\n"
     ]
    }
   ],
   "source": [
    "# Limpar um pouco as descrições\n",
    "redutor = lambda phrase: str.lower(str(phrase))\n",
    "df[\"DESCRICAO\"] = df[\"DESCRICAO\"].apply(redutor)\n",
    "\n",
    "cleaner = lambda phrase: cleanedAnalysis.cleanTextPart1(phrase)\n",
    "df[\"DESCRICAO\"] = df[\"DESCRICAO\"].apply(cleaner)"
   ]
  },
  {
   "cell_type": "code",
   "execution_count": 3,
   "metadata": {},
   "outputs": [],
   "source": [
    "qtd = 10\n",
    "# Analisar as descrições dos top {qtd} serviços da top 1 categoria\n",
    "categorias = df[\"CATEGORIA\"].value_counts().index\n",
    "dfCategoria = df[df[\"CATEGORIA\"] == categorias[0]]\n",
    "servicos = dfCategoria[\"SERVICO\"].value_counts().index\n",
    "allServiceDescriptions = [dfCategoria[dfCategoria[\"SERVICO\"] == servicos[i]][\"DESCRICAO\"]\n",
    "                          for i in range(qtd)]\n",
    "names = ['Tokens - SIFBD - %s' % servicos[i] for i in range(qtd)]"
   ]
  },
  {
   "cell_type": "code",
   "execution_count": 4,
   "metadata": {
    "scrolled": true
   },
   "outputs": [
    {
     "data": {
      "text/plain": [
       "<Figure size 1600x600 with 10 Axes>"
      ]
     },
     "metadata": {},
     "output_type": "display_data"
    }
   ],
   "source": [
    "# Fazer nuvens das palavras mais utilizadas\n",
    "cleanedAnalysis.makeWordCloud(allServiceDescriptions, settings.STOP_WORDS, names)"
   ]
  }
 ],
 "metadata": {
  "kernelspec": {
   "display_name": "Python 3",
   "language": "python",
   "name": "python3"
  },
  "language_info": {
   "codemirror_mode": {
    "name": "ipython",
    "version": 3
   },
   "file_extension": ".py",
   "mimetype": "text/x-python",
   "name": "python",
   "nbconvert_exporter": "python",
   "pygments_lexer": "ipython3",
   "version": "3.7.5"
  }
 },
 "nbformat": 4,
 "nbformat_minor": 2
}
